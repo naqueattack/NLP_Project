{
 "cells": [
  {
   "cell_type": "markdown",
   "metadata": {},
   "source": [
    "## Identifying Duplicate Questions"
   ]
  },
  {
   "cell_type": "code",
   "execution_count": 1,
   "metadata": {},
   "outputs": [],
   "source": [
    "import warnings\n",
    "\n",
    "warnings.filterwarnings(\"ignore\") "
   ]
  },
  {
   "cell_type": "code",
   "execution_count": 2,
   "metadata": {},
   "outputs": [],
   "source": [
    "import pandas as pd"
   ]
  },
  {
   "cell_type": "markdown",
   "metadata": {},
   "source": [
    "Over 100 million people visit Quora every month, so it's no surprise that many people ask similar (or the same) questions. Various questions with the same intent can cause people to spend extra time searching for the best answer to their question, and results in members answering multiple versions of the same question. Quora uses random forest to identify duplicated questions to provide a better experience to active seekers and writers, and offer more value to both of these groups in the long term.\n",
    "Follow the steps outlined below to build the appropriate classifier model. \n",
    "\n",
    "\n",
    "Steps:\n",
    "- Download data\n",
    "- Exploration\n",
    "- Cleaning\n",
    "- Feature Engineering\n",
    "- Modeling\n",
    "\n",
    "By the end of this project you should have **a presentation that describes the model you built** and its **performance**. \n"
   ]
  },
  {
   "cell_type": "code",
   "execution_count": 3,
   "metadata": {},
   "outputs": [],
   "source": [
    "df = pd.read_csv(\"data/train.csv\")"
   ]
  },
  {
   "cell_type": "code",
   "execution_count": 4,
   "metadata": {},
   "outputs": [],
   "source": [
    "from sklearn.model_selection import train_test_split"
   ]
  },
  {
   "cell_type": "code",
   "execution_count": 5,
   "metadata": {},
   "outputs": [
    {
     "data": {
      "text/html": [
       "<div>\n",
       "<style scoped>\n",
       "    .dataframe tbody tr th:only-of-type {\n",
       "        vertical-align: middle;\n",
       "    }\n",
       "\n",
       "    .dataframe tbody tr th {\n",
       "        vertical-align: top;\n",
       "    }\n",
       "\n",
       "    .dataframe thead th {\n",
       "        text-align: right;\n",
       "    }\n",
       "</style>\n",
       "<table border=\"1\" class=\"dataframe\">\n",
       "  <thead>\n",
       "    <tr style=\"text-align: right;\">\n",
       "      <th></th>\n",
       "      <th>id</th>\n",
       "      <th>qid1</th>\n",
       "      <th>qid2</th>\n",
       "      <th>question1</th>\n",
       "      <th>question2</th>\n",
       "      <th>is_duplicate</th>\n",
       "    </tr>\n",
       "  </thead>\n",
       "  <tbody>\n",
       "    <tr>\n",
       "      <th>0</th>\n",
       "      <td>0</td>\n",
       "      <td>1</td>\n",
       "      <td>2</td>\n",
       "      <td>What is the step by step guide to invest in sh...</td>\n",
       "      <td>What is the step by step guide to invest in sh...</td>\n",
       "      <td>0</td>\n",
       "    </tr>\n",
       "    <tr>\n",
       "      <th>1</th>\n",
       "      <td>1</td>\n",
       "      <td>3</td>\n",
       "      <td>4</td>\n",
       "      <td>What is the story of Kohinoor (Koh-i-Noor) Dia...</td>\n",
       "      <td>What would happen if the Indian government sto...</td>\n",
       "      <td>0</td>\n",
       "    </tr>\n",
       "    <tr>\n",
       "      <th>2</th>\n",
       "      <td>2</td>\n",
       "      <td>5</td>\n",
       "      <td>6</td>\n",
       "      <td>How can I increase the speed of my internet co...</td>\n",
       "      <td>How can Internet speed be increased by hacking...</td>\n",
       "      <td>0</td>\n",
       "    </tr>\n",
       "    <tr>\n",
       "      <th>3</th>\n",
       "      <td>3</td>\n",
       "      <td>7</td>\n",
       "      <td>8</td>\n",
       "      <td>Why am I mentally very lonely? How can I solve...</td>\n",
       "      <td>Find the remainder when [math]23^{24}[/math] i...</td>\n",
       "      <td>0</td>\n",
       "    </tr>\n",
       "    <tr>\n",
       "      <th>4</th>\n",
       "      <td>4</td>\n",
       "      <td>9</td>\n",
       "      <td>10</td>\n",
       "      <td>Which one dissolve in water quikly sugar, salt...</td>\n",
       "      <td>Which fish would survive in salt water?</td>\n",
       "      <td>0</td>\n",
       "    </tr>\n",
       "  </tbody>\n",
       "</table>\n",
       "</div>"
      ],
      "text/plain": [
       "   id  qid1  qid2                                          question1  \\\n",
       "0   0     1     2  What is the step by step guide to invest in sh...   \n",
       "1   1     3     4  What is the story of Kohinoor (Koh-i-Noor) Dia...   \n",
       "2   2     5     6  How can I increase the speed of my internet co...   \n",
       "3   3     7     8  Why am I mentally very lonely? How can I solve...   \n",
       "4   4     9    10  Which one dissolve in water quikly sugar, salt...   \n",
       "\n",
       "                                           question2  is_duplicate  \n",
       "0  What is the step by step guide to invest in sh...             0  \n",
       "1  What would happen if the Indian government sto...             0  \n",
       "2  How can Internet speed be increased by hacking...             0  \n",
       "3  Find the remainder when [math]23^{24}[/math] i...             0  \n",
       "4            Which fish would survive in salt water?             0  "
      ]
     },
     "execution_count": 5,
     "metadata": {},
     "output_type": "execute_result"
    }
   ],
   "source": [
    "df.head()"
   ]
  },
  {
   "cell_type": "code",
   "execution_count": null,
   "metadata": {},
   "outputs": [],
   "source": []
  },
  {
   "cell_type": "markdown",
   "metadata": {},
   "source": [
    "### Exploration"
   ]
  },
  {
   "cell_type": "code",
   "execution_count": 6,
   "metadata": {},
   "outputs": [
    {
     "data": {
      "text/plain": [
       "id              0\n",
       "qid1            0\n",
       "qid2            0\n",
       "question1       1\n",
       "question2       2\n",
       "is_duplicate    0\n",
       "dtype: int64"
      ]
     },
     "execution_count": 6,
     "metadata": {},
     "output_type": "execute_result"
    }
   ],
   "source": [
    "df.isnull().sum()"
   ]
  },
  {
   "cell_type": "code",
   "execution_count": 7,
   "metadata": {},
   "outputs": [
    {
     "data": {
      "text/html": [
       "<div>\n",
       "<style scoped>\n",
       "    .dataframe tbody tr th:only-of-type {\n",
       "        vertical-align: middle;\n",
       "    }\n",
       "\n",
       "    .dataframe tbody tr th {\n",
       "        vertical-align: top;\n",
       "    }\n",
       "\n",
       "    .dataframe thead th {\n",
       "        text-align: right;\n",
       "    }\n",
       "</style>\n",
       "<table border=\"1\" class=\"dataframe\">\n",
       "  <thead>\n",
       "    <tr style=\"text-align: right;\">\n",
       "      <th></th>\n",
       "      <th>id</th>\n",
       "      <th>qid1</th>\n",
       "      <th>qid2</th>\n",
       "      <th>question1</th>\n",
       "      <th>question2</th>\n",
       "      <th>is_duplicate</th>\n",
       "    </tr>\n",
       "  </thead>\n",
       "  <tbody>\n",
       "    <tr>\n",
       "      <th>363362</th>\n",
       "      <td>363362</td>\n",
       "      <td>493340</td>\n",
       "      <td>493341</td>\n",
       "      <td>NaN</td>\n",
       "      <td>My Chinese name is Haichao Yu. What English na...</td>\n",
       "      <td>0</td>\n",
       "    </tr>\n",
       "  </tbody>\n",
       "</table>\n",
       "</div>"
      ],
      "text/plain": [
       "            id    qid1    qid2 question1  \\\n",
       "363362  363362  493340  493341       NaN   \n",
       "\n",
       "                                                question2  is_duplicate  \n",
       "363362  My Chinese name is Haichao Yu. What English na...             0  "
      ]
     },
     "execution_count": 7,
     "metadata": {},
     "output_type": "execute_result"
    }
   ],
   "source": [
    "df[df['question1'].isnull()==True]"
   ]
  },
  {
   "cell_type": "code",
   "execution_count": 8,
   "metadata": {},
   "outputs": [
    {
     "data": {
      "text/html": [
       "<div>\n",
       "<style scoped>\n",
       "    .dataframe tbody tr th:only-of-type {\n",
       "        vertical-align: middle;\n",
       "    }\n",
       "\n",
       "    .dataframe tbody tr th {\n",
       "        vertical-align: top;\n",
       "    }\n",
       "\n",
       "    .dataframe thead th {\n",
       "        text-align: right;\n",
       "    }\n",
       "</style>\n",
       "<table border=\"1\" class=\"dataframe\">\n",
       "  <thead>\n",
       "    <tr style=\"text-align: right;\">\n",
       "      <th></th>\n",
       "      <th>id</th>\n",
       "      <th>qid1</th>\n",
       "      <th>qid2</th>\n",
       "      <th>question1</th>\n",
       "      <th>question2</th>\n",
       "      <th>is_duplicate</th>\n",
       "    </tr>\n",
       "  </thead>\n",
       "  <tbody>\n",
       "    <tr>\n",
       "      <th>105780</th>\n",
       "      <td>105780</td>\n",
       "      <td>174363</td>\n",
       "      <td>174364</td>\n",
       "      <td>How can I develop android app?</td>\n",
       "      <td>NaN</td>\n",
       "      <td>0</td>\n",
       "    </tr>\n",
       "    <tr>\n",
       "      <th>201841</th>\n",
       "      <td>201841</td>\n",
       "      <td>303951</td>\n",
       "      <td>174364</td>\n",
       "      <td>How can I create an Android app?</td>\n",
       "      <td>NaN</td>\n",
       "      <td>0</td>\n",
       "    </tr>\n",
       "  </tbody>\n",
       "</table>\n",
       "</div>"
      ],
      "text/plain": [
       "            id    qid1    qid2                         question1 question2  \\\n",
       "105780  105780  174363  174364    How can I develop android app?       NaN   \n",
       "201841  201841  303951  174364  How can I create an Android app?       NaN   \n",
       "\n",
       "        is_duplicate  \n",
       "105780             0  \n",
       "201841             0  "
      ]
     },
     "execution_count": 8,
     "metadata": {},
     "output_type": "execute_result"
    }
   ],
   "source": [
    "df[df['question2'].isnull()==True]"
   ]
  },
  {
   "cell_type": "code",
   "execution_count": 9,
   "metadata": {},
   "outputs": [],
   "source": [
    "#NAs aren't helpful so dropping them\n",
    "df = df.dropna()"
   ]
  },
  {
   "cell_type": "code",
   "execution_count": 10,
   "metadata": {},
   "outputs": [
    {
     "data": {
      "text/plain": [
       "is_duplicate\n",
       "0    255024\n",
       "1    149263\n",
       "Name: count, dtype: int64"
      ]
     },
     "execution_count": 10,
     "metadata": {},
     "output_type": "execute_result"
    }
   ],
   "source": [
    "#data set is unbalance about 2:1\n",
    "df.is_duplicate.value_counts()"
   ]
  },
  {
   "cell_type": "code",
   "execution_count": null,
   "metadata": {},
   "outputs": [],
   "source": []
  },
  {
   "cell_type": "markdown",
   "metadata": {},
   "source": [
    "### Cleaning\n",
    "\n",
    "- Tokenization\n",
    "- Stopwords cleaning\n",
    "- Removing punctuation\n",
    "- Normalizing\n",
    "- Stemming"
   ]
  },
  {
   "cell_type": "code",
   "execution_count": 11,
   "metadata": {},
   "outputs": [
    {
     "name": "stderr",
     "output_type": "stream",
     "text": [
      "[nltk_data] Downloading package stopwords to\n",
      "[nltk_data]     C:\\Users\\Andrew\\AppData\\Roaming\\nltk_data...\n",
      "[nltk_data]   Package stopwords is already up-to-date!\n"
     ]
    }
   ],
   "source": [
    "import string\n",
    "import nltk\n",
    "nltk.download('stopwords')\n",
    "from nltk.corpus import stopwords"
   ]
  },
  {
   "cell_type": "code",
   "execution_count": 12,
   "metadata": {},
   "outputs": [],
   "source": [
    "def unpunctuate(text):\n",
    "    text = \"\".join([char for char in text if char not in string.punctuation])\n",
    "    return text\n",
    "\n",
    "def lowercase(text):\n",
    "    text = text.lower()\n",
    "    return text\n",
    "\n",
    "def remove_stopwords(tokenized_text):\n",
    "    ENGstopwords = stopwords.words('english')\n",
    "    text = [word for word in tokenized_text if word not in ENGstopwords]\n",
    "    return text"
   ]
  },
  {
   "cell_type": "code",
   "execution_count": 13,
   "metadata": {},
   "outputs": [
    {
     "name": "stderr",
     "output_type": "stream",
     "text": [
      "[nltk_data] Downloading package punkt to\n",
      "[nltk_data]     C:\\Users\\Andrew\\AppData\\Roaming\\nltk_data...\n",
      "[nltk_data]   Package punkt is already up-to-date!\n"
     ]
    }
   ],
   "source": [
    "nltk.download('punkt')\n",
    "from nltk.stem import PorterStemmer\n",
    "\n",
    "ps = PorterStemmer() #will remove pre-defined stems\n",
    "\n",
    "def stem(text):\n",
    "    ps = PorterStemmer() \n",
    "    stemtext = []\n",
    "    for word in text: \n",
    "        stemword = ps.stem(word)\n",
    "        stemtext.append(stemword)\n",
    "    return stemtext"
   ]
  },
  {
   "cell_type": "code",
   "execution_count": 14,
   "metadata": {},
   "outputs": [],
   "source": [
    "import re\n",
    "\n",
    "def tokenize(text):\n",
    "    tokens = text.split()\n",
    "    return tokens"
   ]
  },
  {
   "cell_type": "code",
   "execution_count": 15,
   "metadata": {},
   "outputs": [],
   "source": [
    "def preprocess1(dataset):\n",
    "    dataset['question1_cleaned'] = dataset['question1'].apply(lambda x: unpunctuate(x)) \n",
    "    dataset['question1_cleaned'] = dataset['question1_cleaned'].apply(lambda x: lowercase(x))\n",
    "    \n",
    "    dataset['question1_tokenized'] = dataset['question1_cleaned'].apply(lambda x: tokenize(x))\n",
    "    dataset['question1_cleaned'] = dataset['question1_tokenized'].apply(lambda x: remove_stopwords(x))\n",
    "    dataset = dataset.drop('question1_tokenized',axis=1)\n",
    "\n",
    "    return dataset\n",
    "\n",
    "def preprocess2(dataset):     \n",
    "    dataset['question2_cleaned'] = dataset['question2'].apply(lambda x: unpunctuate(x)) \n",
    "    dataset['question2_cleaned'] = dataset['question2_cleaned'].apply(lambda x: lowercase(x))\n",
    "    \n",
    "    dataset['question2_tokenized'] = dataset['question2_cleaned'].apply(lambda x: tokenize(x))\n",
    "    dataset['question2_cleaned'] = dataset['question2_tokenized'].apply(lambda x: remove_stopwords(x))\n",
    "    dataset = dataset.drop('question2_tokenized',axis=1)\n",
    "    \n",
    "    return dataset"
   ]
  },
  {
   "cell_type": "code",
   "execution_count": 16,
   "metadata": {},
   "outputs": [
    {
     "data": {
      "text/html": [
       "<div>\n",
       "<style scoped>\n",
       "    .dataframe tbody tr th:only-of-type {\n",
       "        vertical-align: middle;\n",
       "    }\n",
       "\n",
       "    .dataframe tbody tr th {\n",
       "        vertical-align: top;\n",
       "    }\n",
       "\n",
       "    .dataframe thead th {\n",
       "        text-align: right;\n",
       "    }\n",
       "</style>\n",
       "<table border=\"1\" class=\"dataframe\">\n",
       "  <thead>\n",
       "    <tr style=\"text-align: right;\">\n",
       "      <th></th>\n",
       "      <th>id</th>\n",
       "      <th>qid1</th>\n",
       "      <th>qid2</th>\n",
       "      <th>question1</th>\n",
       "      <th>question2</th>\n",
       "      <th>is_duplicate</th>\n",
       "      <th>question1_cleaned</th>\n",
       "    </tr>\n",
       "  </thead>\n",
       "  <tbody>\n",
       "    <tr>\n",
       "      <th>0</th>\n",
       "      <td>0</td>\n",
       "      <td>1</td>\n",
       "      <td>2</td>\n",
       "      <td>What is the step by step guide to invest in sh...</td>\n",
       "      <td>What is the step by step guide to invest in sh...</td>\n",
       "      <td>0</td>\n",
       "      <td>[step, step, guide, invest, share, market, india]</td>\n",
       "    </tr>\n",
       "    <tr>\n",
       "      <th>1</th>\n",
       "      <td>1</td>\n",
       "      <td>3</td>\n",
       "      <td>4</td>\n",
       "      <td>What is the story of Kohinoor (Koh-i-Noor) Dia...</td>\n",
       "      <td>What would happen if the Indian government sto...</td>\n",
       "      <td>0</td>\n",
       "      <td>[story, kohinoor, kohinoor, diamond]</td>\n",
       "    </tr>\n",
       "    <tr>\n",
       "      <th>2</th>\n",
       "      <td>2</td>\n",
       "      <td>5</td>\n",
       "      <td>6</td>\n",
       "      <td>How can I increase the speed of my internet co...</td>\n",
       "      <td>How can Internet speed be increased by hacking...</td>\n",
       "      <td>0</td>\n",
       "      <td>[increase, speed, internet, connection, using,...</td>\n",
       "    </tr>\n",
       "    <tr>\n",
       "      <th>3</th>\n",
       "      <td>3</td>\n",
       "      <td>7</td>\n",
       "      <td>8</td>\n",
       "      <td>Why am I mentally very lonely? How can I solve...</td>\n",
       "      <td>Find the remainder when [math]23^{24}[/math] i...</td>\n",
       "      <td>0</td>\n",
       "      <td>[mentally, lonely, solve]</td>\n",
       "    </tr>\n",
       "    <tr>\n",
       "      <th>4</th>\n",
       "      <td>4</td>\n",
       "      <td>9</td>\n",
       "      <td>10</td>\n",
       "      <td>Which one dissolve in water quikly sugar, salt...</td>\n",
       "      <td>Which fish would survive in salt water?</td>\n",
       "      <td>0</td>\n",
       "      <td>[one, dissolve, water, quikly, sugar, salt, me...</td>\n",
       "    </tr>\n",
       "    <tr>\n",
       "      <th>...</th>\n",
       "      <td>...</td>\n",
       "      <td>...</td>\n",
       "      <td>...</td>\n",
       "      <td>...</td>\n",
       "      <td>...</td>\n",
       "      <td>...</td>\n",
       "      <td>...</td>\n",
       "    </tr>\n",
       "    <tr>\n",
       "      <th>404285</th>\n",
       "      <td>404285</td>\n",
       "      <td>433578</td>\n",
       "      <td>379845</td>\n",
       "      <td>How many keywords are there in the Racket prog...</td>\n",
       "      <td>How many keywords are there in PERL Programmin...</td>\n",
       "      <td>0</td>\n",
       "      <td>[many, keywords, racket, programming, language...</td>\n",
       "    </tr>\n",
       "    <tr>\n",
       "      <th>404286</th>\n",
       "      <td>404286</td>\n",
       "      <td>18840</td>\n",
       "      <td>155606</td>\n",
       "      <td>Do you believe there is life after death?</td>\n",
       "      <td>Is it true that there is life after death?</td>\n",
       "      <td>1</td>\n",
       "      <td>[believe, life, death]</td>\n",
       "    </tr>\n",
       "    <tr>\n",
       "      <th>404287</th>\n",
       "      <td>404287</td>\n",
       "      <td>537928</td>\n",
       "      <td>537929</td>\n",
       "      <td>What is one coin?</td>\n",
       "      <td>What's this coin?</td>\n",
       "      <td>0</td>\n",
       "      <td>[one, coin]</td>\n",
       "    </tr>\n",
       "    <tr>\n",
       "      <th>404288</th>\n",
       "      <td>404288</td>\n",
       "      <td>537930</td>\n",
       "      <td>537931</td>\n",
       "      <td>What is the approx annual cost of living while...</td>\n",
       "      <td>I am having little hairfall problem but I want...</td>\n",
       "      <td>0</td>\n",
       "      <td>[approx, annual, cost, living, studying, uic, ...</td>\n",
       "    </tr>\n",
       "    <tr>\n",
       "      <th>404289</th>\n",
       "      <td>404289</td>\n",
       "      <td>537932</td>\n",
       "      <td>537933</td>\n",
       "      <td>What is like to have sex with cousin?</td>\n",
       "      <td>What is it like to have sex with your cousin?</td>\n",
       "      <td>0</td>\n",
       "      <td>[like, sex, cousin]</td>\n",
       "    </tr>\n",
       "  </tbody>\n",
       "</table>\n",
       "<p>404287 rows × 7 columns</p>\n",
       "</div>"
      ],
      "text/plain": [
       "            id    qid1    qid2  \\\n",
       "0            0       1       2   \n",
       "1            1       3       4   \n",
       "2            2       5       6   \n",
       "3            3       7       8   \n",
       "4            4       9      10   \n",
       "...        ...     ...     ...   \n",
       "404285  404285  433578  379845   \n",
       "404286  404286   18840  155606   \n",
       "404287  404287  537928  537929   \n",
       "404288  404288  537930  537931   \n",
       "404289  404289  537932  537933   \n",
       "\n",
       "                                                question1  \\\n",
       "0       What is the step by step guide to invest in sh...   \n",
       "1       What is the story of Kohinoor (Koh-i-Noor) Dia...   \n",
       "2       How can I increase the speed of my internet co...   \n",
       "3       Why am I mentally very lonely? How can I solve...   \n",
       "4       Which one dissolve in water quikly sugar, salt...   \n",
       "...                                                   ...   \n",
       "404285  How many keywords are there in the Racket prog...   \n",
       "404286          Do you believe there is life after death?   \n",
       "404287                                  What is one coin?   \n",
       "404288  What is the approx annual cost of living while...   \n",
       "404289              What is like to have sex with cousin?   \n",
       "\n",
       "                                                question2  is_duplicate  \\\n",
       "0       What is the step by step guide to invest in sh...             0   \n",
       "1       What would happen if the Indian government sto...             0   \n",
       "2       How can Internet speed be increased by hacking...             0   \n",
       "3       Find the remainder when [math]23^{24}[/math] i...             0   \n",
       "4                 Which fish would survive in salt water?             0   \n",
       "...                                                   ...           ...   \n",
       "404285  How many keywords are there in PERL Programmin...             0   \n",
       "404286         Is it true that there is life after death?             1   \n",
       "404287                                  What's this coin?             0   \n",
       "404288  I am having little hairfall problem but I want...             0   \n",
       "404289      What is it like to have sex with your cousin?             0   \n",
       "\n",
       "                                        question1_cleaned  \n",
       "0       [step, step, guide, invest, share, market, india]  \n",
       "1                    [story, kohinoor, kohinoor, diamond]  \n",
       "2       [increase, speed, internet, connection, using,...  \n",
       "3                               [mentally, lonely, solve]  \n",
       "4       [one, dissolve, water, quikly, sugar, salt, me...  \n",
       "...                                                   ...  \n",
       "404285  [many, keywords, racket, programming, language...  \n",
       "404286                             [believe, life, death]  \n",
       "404287                                        [one, coin]  \n",
       "404288  [approx, annual, cost, living, studying, uic, ...  \n",
       "404289                                [like, sex, cousin]  \n",
       "\n",
       "[404287 rows x 7 columns]"
      ]
     },
     "execution_count": 16,
     "metadata": {},
     "output_type": "execute_result"
    }
   ],
   "source": [
    "preprocess1(df)"
   ]
  },
  {
   "cell_type": "code",
   "execution_count": 17,
   "metadata": {},
   "outputs": [
    {
     "data": {
      "text/html": [
       "<div>\n",
       "<style scoped>\n",
       "    .dataframe tbody tr th:only-of-type {\n",
       "        vertical-align: middle;\n",
       "    }\n",
       "\n",
       "    .dataframe tbody tr th {\n",
       "        vertical-align: top;\n",
       "    }\n",
       "\n",
       "    .dataframe thead th {\n",
       "        text-align: right;\n",
       "    }\n",
       "</style>\n",
       "<table border=\"1\" class=\"dataframe\">\n",
       "  <thead>\n",
       "    <tr style=\"text-align: right;\">\n",
       "      <th></th>\n",
       "      <th>id</th>\n",
       "      <th>qid1</th>\n",
       "      <th>qid2</th>\n",
       "      <th>question1</th>\n",
       "      <th>question2</th>\n",
       "      <th>is_duplicate</th>\n",
       "      <th>question1_cleaned</th>\n",
       "      <th>question1_tokenized</th>\n",
       "      <th>question2_cleaned</th>\n",
       "    </tr>\n",
       "  </thead>\n",
       "  <tbody>\n",
       "    <tr>\n",
       "      <th>0</th>\n",
       "      <td>0</td>\n",
       "      <td>1</td>\n",
       "      <td>2</td>\n",
       "      <td>What is the step by step guide to invest in sh...</td>\n",
       "      <td>What is the step by step guide to invest in sh...</td>\n",
       "      <td>0</td>\n",
       "      <td>[step, step, guide, invest, share, market, india]</td>\n",
       "      <td>[what, is, the, step, by, step, guide, to, inv...</td>\n",
       "      <td>[step, step, guide, invest, share, market]</td>\n",
       "    </tr>\n",
       "    <tr>\n",
       "      <th>1</th>\n",
       "      <td>1</td>\n",
       "      <td>3</td>\n",
       "      <td>4</td>\n",
       "      <td>What is the story of Kohinoor (Koh-i-Noor) Dia...</td>\n",
       "      <td>What would happen if the Indian government sto...</td>\n",
       "      <td>0</td>\n",
       "      <td>[story, kohinoor, kohinoor, diamond]</td>\n",
       "      <td>[what, is, the, story, of, kohinoor, kohinoor,...</td>\n",
       "      <td>[would, happen, indian, government, stole, koh...</td>\n",
       "    </tr>\n",
       "    <tr>\n",
       "      <th>2</th>\n",
       "      <td>2</td>\n",
       "      <td>5</td>\n",
       "      <td>6</td>\n",
       "      <td>How can I increase the speed of my internet co...</td>\n",
       "      <td>How can Internet speed be increased by hacking...</td>\n",
       "      <td>0</td>\n",
       "      <td>[increase, speed, internet, connection, using,...</td>\n",
       "      <td>[how, can, i, increase, the, speed, of, my, in...</td>\n",
       "      <td>[internet, speed, increased, hacking, dns]</td>\n",
       "    </tr>\n",
       "    <tr>\n",
       "      <th>3</th>\n",
       "      <td>3</td>\n",
       "      <td>7</td>\n",
       "      <td>8</td>\n",
       "      <td>Why am I mentally very lonely? How can I solve...</td>\n",
       "      <td>Find the remainder when [math]23^{24}[/math] i...</td>\n",
       "      <td>0</td>\n",
       "      <td>[mentally, lonely, solve]</td>\n",
       "      <td>[why, am, i, mentally, very, lonely, how, can,...</td>\n",
       "      <td>[find, remainder, math2324math, divided, 2423]</td>\n",
       "    </tr>\n",
       "    <tr>\n",
       "      <th>4</th>\n",
       "      <td>4</td>\n",
       "      <td>9</td>\n",
       "      <td>10</td>\n",
       "      <td>Which one dissolve in water quikly sugar, salt...</td>\n",
       "      <td>Which fish would survive in salt water?</td>\n",
       "      <td>0</td>\n",
       "      <td>[one, dissolve, water, quikly, sugar, salt, me...</td>\n",
       "      <td>[which, one, dissolve, in, water, quikly, suga...</td>\n",
       "      <td>[fish, would, survive, salt, water]</td>\n",
       "    </tr>\n",
       "    <tr>\n",
       "      <th>...</th>\n",
       "      <td>...</td>\n",
       "      <td>...</td>\n",
       "      <td>...</td>\n",
       "      <td>...</td>\n",
       "      <td>...</td>\n",
       "      <td>...</td>\n",
       "      <td>...</td>\n",
       "      <td>...</td>\n",
       "      <td>...</td>\n",
       "    </tr>\n",
       "    <tr>\n",
       "      <th>404285</th>\n",
       "      <td>404285</td>\n",
       "      <td>433578</td>\n",
       "      <td>379845</td>\n",
       "      <td>How many keywords are there in the Racket prog...</td>\n",
       "      <td>How many keywords are there in PERL Programmin...</td>\n",
       "      <td>0</td>\n",
       "      <td>[many, keywords, racket, programming, language...</td>\n",
       "      <td>[how, many, keywords, are, there, in, the, rac...</td>\n",
       "      <td>[many, keywords, perl, programming, language, ...</td>\n",
       "    </tr>\n",
       "    <tr>\n",
       "      <th>404286</th>\n",
       "      <td>404286</td>\n",
       "      <td>18840</td>\n",
       "      <td>155606</td>\n",
       "      <td>Do you believe there is life after death?</td>\n",
       "      <td>Is it true that there is life after death?</td>\n",
       "      <td>1</td>\n",
       "      <td>[believe, life, death]</td>\n",
       "      <td>[do, you, believe, there, is, life, after, death]</td>\n",
       "      <td>[true, life, death]</td>\n",
       "    </tr>\n",
       "    <tr>\n",
       "      <th>404287</th>\n",
       "      <td>404287</td>\n",
       "      <td>537928</td>\n",
       "      <td>537929</td>\n",
       "      <td>What is one coin?</td>\n",
       "      <td>What's this coin?</td>\n",
       "      <td>0</td>\n",
       "      <td>[one, coin]</td>\n",
       "      <td>[what, is, one, coin]</td>\n",
       "      <td>[whats, coin]</td>\n",
       "    </tr>\n",
       "    <tr>\n",
       "      <th>404288</th>\n",
       "      <td>404288</td>\n",
       "      <td>537930</td>\n",
       "      <td>537931</td>\n",
       "      <td>What is the approx annual cost of living while...</td>\n",
       "      <td>I am having little hairfall problem but I want...</td>\n",
       "      <td>0</td>\n",
       "      <td>[approx, annual, cost, living, studying, uic, ...</td>\n",
       "      <td>[what, is, the, approx, annual, cost, of, livi...</td>\n",
       "      <td>[little, hairfall, problem, want, use, hair, s...</td>\n",
       "    </tr>\n",
       "    <tr>\n",
       "      <th>404289</th>\n",
       "      <td>404289</td>\n",
       "      <td>537932</td>\n",
       "      <td>537933</td>\n",
       "      <td>What is like to have sex with cousin?</td>\n",
       "      <td>What is it like to have sex with your cousin?</td>\n",
       "      <td>0</td>\n",
       "      <td>[like, sex, cousin]</td>\n",
       "      <td>[what, is, like, to, have, sex, with, cousin]</td>\n",
       "      <td>[like, sex, cousin]</td>\n",
       "    </tr>\n",
       "  </tbody>\n",
       "</table>\n",
       "<p>404287 rows × 9 columns</p>\n",
       "</div>"
      ],
      "text/plain": [
       "            id    qid1    qid2  \\\n",
       "0            0       1       2   \n",
       "1            1       3       4   \n",
       "2            2       5       6   \n",
       "3            3       7       8   \n",
       "4            4       9      10   \n",
       "...        ...     ...     ...   \n",
       "404285  404285  433578  379845   \n",
       "404286  404286   18840  155606   \n",
       "404287  404287  537928  537929   \n",
       "404288  404288  537930  537931   \n",
       "404289  404289  537932  537933   \n",
       "\n",
       "                                                question1  \\\n",
       "0       What is the step by step guide to invest in sh...   \n",
       "1       What is the story of Kohinoor (Koh-i-Noor) Dia...   \n",
       "2       How can I increase the speed of my internet co...   \n",
       "3       Why am I mentally very lonely? How can I solve...   \n",
       "4       Which one dissolve in water quikly sugar, salt...   \n",
       "...                                                   ...   \n",
       "404285  How many keywords are there in the Racket prog...   \n",
       "404286          Do you believe there is life after death?   \n",
       "404287                                  What is one coin?   \n",
       "404288  What is the approx annual cost of living while...   \n",
       "404289              What is like to have sex with cousin?   \n",
       "\n",
       "                                                question2  is_duplicate  \\\n",
       "0       What is the step by step guide to invest in sh...             0   \n",
       "1       What would happen if the Indian government sto...             0   \n",
       "2       How can Internet speed be increased by hacking...             0   \n",
       "3       Find the remainder when [math]23^{24}[/math] i...             0   \n",
       "4                 Which fish would survive in salt water?             0   \n",
       "...                                                   ...           ...   \n",
       "404285  How many keywords are there in PERL Programmin...             0   \n",
       "404286         Is it true that there is life after death?             1   \n",
       "404287                                  What's this coin?             0   \n",
       "404288  I am having little hairfall problem but I want...             0   \n",
       "404289      What is it like to have sex with your cousin?             0   \n",
       "\n",
       "                                        question1_cleaned  \\\n",
       "0       [step, step, guide, invest, share, market, india]   \n",
       "1                    [story, kohinoor, kohinoor, diamond]   \n",
       "2       [increase, speed, internet, connection, using,...   \n",
       "3                               [mentally, lonely, solve]   \n",
       "4       [one, dissolve, water, quikly, sugar, salt, me...   \n",
       "...                                                   ...   \n",
       "404285  [many, keywords, racket, programming, language...   \n",
       "404286                             [believe, life, death]   \n",
       "404287                                        [one, coin]   \n",
       "404288  [approx, annual, cost, living, studying, uic, ...   \n",
       "404289                                [like, sex, cousin]   \n",
       "\n",
       "                                      question1_tokenized  \\\n",
       "0       [what, is, the, step, by, step, guide, to, inv...   \n",
       "1       [what, is, the, story, of, kohinoor, kohinoor,...   \n",
       "2       [how, can, i, increase, the, speed, of, my, in...   \n",
       "3       [why, am, i, mentally, very, lonely, how, can,...   \n",
       "4       [which, one, dissolve, in, water, quikly, suga...   \n",
       "...                                                   ...   \n",
       "404285  [how, many, keywords, are, there, in, the, rac...   \n",
       "404286  [do, you, believe, there, is, life, after, death]   \n",
       "404287                              [what, is, one, coin]   \n",
       "404288  [what, is, the, approx, annual, cost, of, livi...   \n",
       "404289      [what, is, like, to, have, sex, with, cousin]   \n",
       "\n",
       "                                        question2_cleaned  \n",
       "0              [step, step, guide, invest, share, market]  \n",
       "1       [would, happen, indian, government, stole, koh...  \n",
       "2              [internet, speed, increased, hacking, dns]  \n",
       "3          [find, remainder, math2324math, divided, 2423]  \n",
       "4                     [fish, would, survive, salt, water]  \n",
       "...                                                   ...  \n",
       "404285  [many, keywords, perl, programming, language, ...  \n",
       "404286                                [true, life, death]  \n",
       "404287                                      [whats, coin]  \n",
       "404288  [little, hairfall, problem, want, use, hair, s...  \n",
       "404289                                [like, sex, cousin]  \n",
       "\n",
       "[404287 rows x 9 columns]"
      ]
     },
     "execution_count": 17,
     "metadata": {},
     "output_type": "execute_result"
    }
   ],
   "source": [
    "preprocess2(df)"
   ]
  },
  {
   "cell_type": "code",
   "execution_count": 18,
   "metadata": {},
   "outputs": [],
   "source": [
    "df = df.drop(['question1','question2','question1_tokenized','question2_tokenized'],axis=1)"
   ]
  },
  {
   "cell_type": "code",
   "execution_count": 19,
   "metadata": {},
   "outputs": [
    {
     "data": {
      "text/html": [
       "<div>\n",
       "<style scoped>\n",
       "    .dataframe tbody tr th:only-of-type {\n",
       "        vertical-align: middle;\n",
       "    }\n",
       "\n",
       "    .dataframe tbody tr th {\n",
       "        vertical-align: top;\n",
       "    }\n",
       "\n",
       "    .dataframe thead th {\n",
       "        text-align: right;\n",
       "    }\n",
       "</style>\n",
       "<table border=\"1\" class=\"dataframe\">\n",
       "  <thead>\n",
       "    <tr style=\"text-align: right;\">\n",
       "      <th></th>\n",
       "      <th>id</th>\n",
       "      <th>qid1</th>\n",
       "      <th>qid2</th>\n",
       "      <th>is_duplicate</th>\n",
       "      <th>question1_cleaned</th>\n",
       "      <th>question2_cleaned</th>\n",
       "    </tr>\n",
       "  </thead>\n",
       "  <tbody>\n",
       "    <tr>\n",
       "      <th>0</th>\n",
       "      <td>0</td>\n",
       "      <td>1</td>\n",
       "      <td>2</td>\n",
       "      <td>0</td>\n",
       "      <td>[step, step, guide, invest, share, market, india]</td>\n",
       "      <td>[step, step, guide, invest, share, market]</td>\n",
       "    </tr>\n",
       "    <tr>\n",
       "      <th>1</th>\n",
       "      <td>1</td>\n",
       "      <td>3</td>\n",
       "      <td>4</td>\n",
       "      <td>0</td>\n",
       "      <td>[story, kohinoor, kohinoor, diamond]</td>\n",
       "      <td>[would, happen, indian, government, stole, koh...</td>\n",
       "    </tr>\n",
       "    <tr>\n",
       "      <th>2</th>\n",
       "      <td>2</td>\n",
       "      <td>5</td>\n",
       "      <td>6</td>\n",
       "      <td>0</td>\n",
       "      <td>[increase, speed, internet, connection, using,...</td>\n",
       "      <td>[internet, speed, increased, hacking, dns]</td>\n",
       "    </tr>\n",
       "    <tr>\n",
       "      <th>3</th>\n",
       "      <td>3</td>\n",
       "      <td>7</td>\n",
       "      <td>8</td>\n",
       "      <td>0</td>\n",
       "      <td>[mentally, lonely, solve]</td>\n",
       "      <td>[find, remainder, math2324math, divided, 2423]</td>\n",
       "    </tr>\n",
       "    <tr>\n",
       "      <th>4</th>\n",
       "      <td>4</td>\n",
       "      <td>9</td>\n",
       "      <td>10</td>\n",
       "      <td>0</td>\n",
       "      <td>[one, dissolve, water, quikly, sugar, salt, me...</td>\n",
       "      <td>[fish, would, survive, salt, water]</td>\n",
       "    </tr>\n",
       "  </tbody>\n",
       "</table>\n",
       "</div>"
      ],
      "text/plain": [
       "   id  qid1  qid2  is_duplicate  \\\n",
       "0   0     1     2             0   \n",
       "1   1     3     4             0   \n",
       "2   2     5     6             0   \n",
       "3   3     7     8             0   \n",
       "4   4     9    10             0   \n",
       "\n",
       "                                   question1_cleaned  \\\n",
       "0  [step, step, guide, invest, share, market, india]   \n",
       "1               [story, kohinoor, kohinoor, diamond]   \n",
       "2  [increase, speed, internet, connection, using,...   \n",
       "3                          [mentally, lonely, solve]   \n",
       "4  [one, dissolve, water, quikly, sugar, salt, me...   \n",
       "\n",
       "                                   question2_cleaned  \n",
       "0         [step, step, guide, invest, share, market]  \n",
       "1  [would, happen, indian, government, stole, koh...  \n",
       "2         [internet, speed, increased, hacking, dns]  \n",
       "3     [find, remainder, math2324math, divided, 2423]  \n",
       "4                [fish, would, survive, salt, water]  "
      ]
     },
     "execution_count": 19,
     "metadata": {},
     "output_type": "execute_result"
    }
   ],
   "source": [
    "df.head()"
   ]
  },
  {
   "cell_type": "code",
   "execution_count": 20,
   "metadata": {},
   "outputs": [],
   "source": [
    "df['stem_q1'] = df['question1_cleaned'].apply(lambda x: stem(x))\n",
    "df['stem_q2'] = df['question2_cleaned'].apply(lambda x: stem(x))"
   ]
  },
  {
   "cell_type": "code",
   "execution_count": 21,
   "metadata": {},
   "outputs": [],
   "source": [
    "df = df.drop(['question1_cleaned','question2_cleaned'],axis=1)"
   ]
  },
  {
   "cell_type": "markdown",
   "metadata": {},
   "source": [
    "### Feature Engineering\n",
    "\n",
    "- tf-idf\n",
    "- word2vec\n",
    "- word count\n",
    "- number of the same words in both questions\n",
    "- ...."
   ]
  },
  {
   "cell_type": "code",
   "execution_count": 22,
   "metadata": {},
   "outputs": [],
   "source": [
    "#Create variables for sentence length and difference in length\n",
    "df['wordcount_q1'] = df['stem_q1'].apply(lambda x: len(x))\n",
    "df['wordcount_q2'] = df['stem_q2'].apply(lambda x: len(x))\n",
    "df['worddiff'] = abs(df['wordcount_q1'] - df['wordcount_q2'])"
   ]
  },
  {
   "cell_type": "code",
   "execution_count": 23,
   "metadata": {},
   "outputs": [],
   "source": [
    "# Function to calculate the number of common words between two lists\n",
    "def count_common_words(list1, list2):\n",
    "    common_words = set(list1) & set(list2)\n",
    "    return len(common_words)\n",
    "\n",
    "# Create a new column with the number of common words\n",
    "df['common_words_count'] = df.apply(lambda row: count_common_words(row['stem_q1'], row['stem_q2']), axis=1)\n"
   ]
  },
  {
   "cell_type": "code",
   "execution_count": 24,
   "metadata": {},
   "outputs": [
    {
     "data": {
      "text/html": [
       "<div>\n",
       "<style scoped>\n",
       "    .dataframe tbody tr th:only-of-type {\n",
       "        vertical-align: middle;\n",
       "    }\n",
       "\n",
       "    .dataframe tbody tr th {\n",
       "        vertical-align: top;\n",
       "    }\n",
       "\n",
       "    .dataframe thead th {\n",
       "        text-align: right;\n",
       "    }\n",
       "</style>\n",
       "<table border=\"1\" class=\"dataframe\">\n",
       "  <thead>\n",
       "    <tr style=\"text-align: right;\">\n",
       "      <th></th>\n",
       "      <th>id</th>\n",
       "      <th>qid1</th>\n",
       "      <th>qid2</th>\n",
       "      <th>is_duplicate</th>\n",
       "      <th>stem_q1</th>\n",
       "      <th>stem_q2</th>\n",
       "      <th>wordcount_q1</th>\n",
       "      <th>wordcount_q2</th>\n",
       "      <th>worddiff</th>\n",
       "      <th>common_words_count</th>\n",
       "    </tr>\n",
       "  </thead>\n",
       "  <tbody>\n",
       "    <tr>\n",
       "      <th>0</th>\n",
       "      <td>0</td>\n",
       "      <td>1</td>\n",
       "      <td>2</td>\n",
       "      <td>0</td>\n",
       "      <td>[step, step, guid, invest, share, market, india]</td>\n",
       "      <td>[step, step, guid, invest, share, market]</td>\n",
       "      <td>7</td>\n",
       "      <td>6</td>\n",
       "      <td>1</td>\n",
       "      <td>5</td>\n",
       "    </tr>\n",
       "    <tr>\n",
       "      <th>1</th>\n",
       "      <td>1</td>\n",
       "      <td>3</td>\n",
       "      <td>4</td>\n",
       "      <td>0</td>\n",
       "      <td>[stori, kohinoor, kohinoor, diamond]</td>\n",
       "      <td>[would, happen, indian, govern, stole, kohinoo...</td>\n",
       "      <td>4</td>\n",
       "      <td>9</td>\n",
       "      <td>5</td>\n",
       "      <td>2</td>\n",
       "    </tr>\n",
       "    <tr>\n",
       "      <th>2</th>\n",
       "      <td>2</td>\n",
       "      <td>5</td>\n",
       "      <td>6</td>\n",
       "      <td>0</td>\n",
       "      <td>[increas, speed, internet, connect, use, vpn]</td>\n",
       "      <td>[internet, speed, increas, hack, dn]</td>\n",
       "      <td>6</td>\n",
       "      <td>5</td>\n",
       "      <td>1</td>\n",
       "      <td>3</td>\n",
       "    </tr>\n",
       "    <tr>\n",
       "      <th>3</th>\n",
       "      <td>3</td>\n",
       "      <td>7</td>\n",
       "      <td>8</td>\n",
       "      <td>0</td>\n",
       "      <td>[mental, lone, solv]</td>\n",
       "      <td>[find, remaind, math2324math, divid, 2423]</td>\n",
       "      <td>3</td>\n",
       "      <td>5</td>\n",
       "      <td>2</td>\n",
       "      <td>0</td>\n",
       "    </tr>\n",
       "    <tr>\n",
       "      <th>4</th>\n",
       "      <td>4</td>\n",
       "      <td>9</td>\n",
       "      <td>10</td>\n",
       "      <td>0</td>\n",
       "      <td>[one, dissolv, water, quikli, sugar, salt, met...</td>\n",
       "      <td>[fish, would, surviv, salt, water]</td>\n",
       "      <td>10</td>\n",
       "      <td>5</td>\n",
       "      <td>5</td>\n",
       "      <td>2</td>\n",
       "    </tr>\n",
       "  </tbody>\n",
       "</table>\n",
       "</div>"
      ],
      "text/plain": [
       "   id  qid1  qid2  is_duplicate  \\\n",
       "0   0     1     2             0   \n",
       "1   1     3     4             0   \n",
       "2   2     5     6             0   \n",
       "3   3     7     8             0   \n",
       "4   4     9    10             0   \n",
       "\n",
       "                                             stem_q1  \\\n",
       "0   [step, step, guid, invest, share, market, india]   \n",
       "1               [stori, kohinoor, kohinoor, diamond]   \n",
       "2      [increas, speed, internet, connect, use, vpn]   \n",
       "3                               [mental, lone, solv]   \n",
       "4  [one, dissolv, water, quikli, sugar, salt, met...   \n",
       "\n",
       "                                             stem_q2  wordcount_q1  \\\n",
       "0          [step, step, guid, invest, share, market]             7   \n",
       "1  [would, happen, indian, govern, stole, kohinoo...             4   \n",
       "2               [internet, speed, increas, hack, dn]             6   \n",
       "3         [find, remaind, math2324math, divid, 2423]             3   \n",
       "4                 [fish, would, surviv, salt, water]            10   \n",
       "\n",
       "   wordcount_q2  worddiff  common_words_count  \n",
       "0             6         1                   5  \n",
       "1             9         5                   2  \n",
       "2             5         1                   3  \n",
       "3             5         2                   0  \n",
       "4             5         5                   2  "
      ]
     },
     "execution_count": 24,
     "metadata": {},
     "output_type": "execute_result"
    }
   ],
   "source": [
    "df.head()"
   ]
  },
  {
   "cell_type": "code",
   "execution_count": 25,
   "metadata": {},
   "outputs": [],
   "source": [
    "import numpy as np"
   ]
  },
  {
   "cell_type": "code",
   "execution_count": 26,
   "metadata": {},
   "outputs": [],
   "source": [
    "#Import google word2vec \n",
    "embeddings_dict = {}\n",
    "with open('data/glove.6B.100d.txt', 'r', encoding='utf-8') as f:\n",
    "    for line in f:\n",
    "        values = line.split()\n",
    "        word = values[0]\n",
    "        vector = np.asarray(values[1:], \"float32\")\n",
    "        embeddings_dict[word] = vector"
   ]
  },
  {
   "cell_type": "code",
   "execution_count": 27,
   "metadata": {},
   "outputs": [],
   "source": [
    "#function to apply google vectors to words in list\n",
    "def apply_word_vectors(word_list):\n",
    "    vectors = [embeddings_dict[word] for word in word_list if word in embeddings_dict]\n",
    "    return vectors"
   ]
  },
  {
   "cell_type": "code",
   "execution_count": 28,
   "metadata": {},
   "outputs": [],
   "source": [
    "#apply word vectors to lists\n",
    "df['vect_q1'] = df['stem_q1'].apply(apply_word_vectors)\n",
    "df['vect_q2'] = df['stem_q2'].apply(apply_word_vectors)"
   ]
  },
  {
   "cell_type": "code",
   "execution_count": 29,
   "metadata": {},
   "outputs": [],
   "source": [
    "df['wordcount_q1'] = df['wordcount_q1'].astype(np.float32)\n",
    "df['wordcount_q2'] = df['wordcount_q2'].astype(np.float32)\n",
    "df['worddiff'] = df['worddiff'].astype(np.float32)\n",
    "df['common_words_count'] = df['common_words_count'].astype(np.float32)"
   ]
  },
  {
   "cell_type": "code",
   "execution_count": 30,
   "metadata": {},
   "outputs": [
    {
     "data": {
      "text/html": [
       "<div>\n",
       "<style scoped>\n",
       "    .dataframe tbody tr th:only-of-type {\n",
       "        vertical-align: middle;\n",
       "    }\n",
       "\n",
       "    .dataframe tbody tr th {\n",
       "        vertical-align: top;\n",
       "    }\n",
       "\n",
       "    .dataframe thead th {\n",
       "        text-align: right;\n",
       "    }\n",
       "</style>\n",
       "<table border=\"1\" class=\"dataframe\">\n",
       "  <thead>\n",
       "    <tr style=\"text-align: right;\">\n",
       "      <th></th>\n",
       "      <th>id</th>\n",
       "      <th>qid1</th>\n",
       "      <th>qid2</th>\n",
       "      <th>is_duplicate</th>\n",
       "      <th>stem_q1</th>\n",
       "      <th>stem_q2</th>\n",
       "      <th>wordcount_q1</th>\n",
       "      <th>wordcount_q2</th>\n",
       "      <th>worddiff</th>\n",
       "      <th>common_words_count</th>\n",
       "      <th>vect_q1</th>\n",
       "      <th>vect_q2</th>\n",
       "    </tr>\n",
       "  </thead>\n",
       "  <tbody>\n",
       "    <tr>\n",
       "      <th>0</th>\n",
       "      <td>0</td>\n",
       "      <td>1</td>\n",
       "      <td>2</td>\n",
       "      <td>0</td>\n",
       "      <td>[step, step, guid, invest, share, market, india]</td>\n",
       "      <td>[step, step, guid, invest, share, market]</td>\n",
       "      <td>7.0</td>\n",
       "      <td>6.0</td>\n",
       "      <td>1.0</td>\n",
       "      <td>5.0</td>\n",
       "      <td>[[0.091283, -0.13298, 0.045574, 0.57397, 0.127...</td>\n",
       "      <td>[[0.091283, -0.13298, 0.045574, 0.57397, 0.127...</td>\n",
       "    </tr>\n",
       "    <tr>\n",
       "      <th>1</th>\n",
       "      <td>1</td>\n",
       "      <td>3</td>\n",
       "      <td>4</td>\n",
       "      <td>0</td>\n",
       "      <td>[stori, kohinoor, kohinoor, diamond]</td>\n",
       "      <td>[would, happen, indian, govern, stole, kohinoo...</td>\n",
       "      <td>4.0</td>\n",
       "      <td>9.0</td>\n",
       "      <td>5.0</td>\n",
       "      <td>2.0</td>\n",
       "      <td>[[0.67343, -0.65684, -0.73887, 0.2514, -0.0379...</td>\n",
       "      <td>[[0.039741, 0.035052, 0.32988, -0.5879, -0.250...</td>\n",
       "    </tr>\n",
       "    <tr>\n",
       "      <th>2</th>\n",
       "      <td>2</td>\n",
       "      <td>5</td>\n",
       "      <td>6</td>\n",
       "      <td>0</td>\n",
       "      <td>[increas, speed, internet, connect, use, vpn]</td>\n",
       "      <td>[internet, speed, increas, hack, dn]</td>\n",
       "      <td>6.0</td>\n",
       "      <td>5.0</td>\n",
       "      <td>1.0</td>\n",
       "      <td>3.0</td>\n",
       "      <td>[[-0.051814, -0.36576, 0.43149, 0.26457, -0.25...</td>\n",
       "      <td>[[0.17614, 0.0020898, 0.1467, -0.40558, 0.9967...</td>\n",
       "    </tr>\n",
       "    <tr>\n",
       "      <th>3</th>\n",
       "      <td>3</td>\n",
       "      <td>7</td>\n",
       "      <td>8</td>\n",
       "      <td>0</td>\n",
       "      <td>[mental, lone, solv]</td>\n",
       "      <td>[find, remaind, math2324math, divid, 2423]</td>\n",
       "      <td>3.0</td>\n",
       "      <td>5.0</td>\n",
       "      <td>2.0</td>\n",
       "      <td>0.0</td>\n",
       "      <td>[[0.43134, 0.30959, 0.0064551, 0.56405, -0.902...</td>\n",
       "      <td>[[-0.13778, 0.47448, 0.30845, -0.0065366, -0.3...</td>\n",
       "    </tr>\n",
       "    <tr>\n",
       "      <th>4</th>\n",
       "      <td>4</td>\n",
       "      <td>9</td>\n",
       "      <td>10</td>\n",
       "      <td>0</td>\n",
       "      <td>[one, dissolv, water, quikli, sugar, salt, met...</td>\n",
       "      <td>[fish, would, surviv, salt, water]</td>\n",
       "      <td>10.0</td>\n",
       "      <td>5.0</td>\n",
       "      <td>5.0</td>\n",
       "      <td>2.0</td>\n",
       "      <td>[[-0.22557, 0.49418, 0.4861, -0.4332, 0.13738,...</td>\n",
       "      <td>[[-0.65654, 0.56149, 0.43801, -0.70816, -0.028...</td>\n",
       "    </tr>\n",
       "  </tbody>\n",
       "</table>\n",
       "</div>"
      ],
      "text/plain": [
       "   id  qid1  qid2  is_duplicate  \\\n",
       "0   0     1     2             0   \n",
       "1   1     3     4             0   \n",
       "2   2     5     6             0   \n",
       "3   3     7     8             0   \n",
       "4   4     9    10             0   \n",
       "\n",
       "                                             stem_q1  \\\n",
       "0   [step, step, guid, invest, share, market, india]   \n",
       "1               [stori, kohinoor, kohinoor, diamond]   \n",
       "2      [increas, speed, internet, connect, use, vpn]   \n",
       "3                               [mental, lone, solv]   \n",
       "4  [one, dissolv, water, quikli, sugar, salt, met...   \n",
       "\n",
       "                                             stem_q2  wordcount_q1  \\\n",
       "0          [step, step, guid, invest, share, market]           7.0   \n",
       "1  [would, happen, indian, govern, stole, kohinoo...           4.0   \n",
       "2               [internet, speed, increas, hack, dn]           6.0   \n",
       "3         [find, remaind, math2324math, divid, 2423]           3.0   \n",
       "4                 [fish, would, surviv, salt, water]          10.0   \n",
       "\n",
       "   wordcount_q2  worddiff  common_words_count  \\\n",
       "0           6.0       1.0                 5.0   \n",
       "1           9.0       5.0                 2.0   \n",
       "2           5.0       1.0                 3.0   \n",
       "3           5.0       2.0                 0.0   \n",
       "4           5.0       5.0                 2.0   \n",
       "\n",
       "                                             vect_q1  \\\n",
       "0  [[0.091283, -0.13298, 0.045574, 0.57397, 0.127...   \n",
       "1  [[0.67343, -0.65684, -0.73887, 0.2514, -0.0379...   \n",
       "2  [[-0.051814, -0.36576, 0.43149, 0.26457, -0.25...   \n",
       "3  [[0.43134, 0.30959, 0.0064551, 0.56405, -0.902...   \n",
       "4  [[-0.22557, 0.49418, 0.4861, -0.4332, 0.13738,...   \n",
       "\n",
       "                                             vect_q2  \n",
       "0  [[0.091283, -0.13298, 0.045574, 0.57397, 0.127...  \n",
       "1  [[0.039741, 0.035052, 0.32988, -0.5879, -0.250...  \n",
       "2  [[0.17614, 0.0020898, 0.1467, -0.40558, 0.9967...  \n",
       "3  [[-0.13778, 0.47448, 0.30845, -0.0065366, -0.3...  \n",
       "4  [[-0.65654, 0.56149, 0.43801, -0.70816, -0.028...  "
      ]
     },
     "execution_count": 30,
     "metadata": {},
     "output_type": "execute_result"
    }
   ],
   "source": [
    "df.head()"
   ]
  },
  {
   "cell_type": "code",
   "execution_count": 31,
   "metadata": {},
   "outputs": [],
   "source": [
    "from sklearn.utils import resample\n",
    "\n",
    "# Assuming your original dataframe is called 'df' and the target variable is 'label'\n",
    "\n",
    "# Separate the minority and majority classes\n",
    "df_minority = df[df['is_duplicate'] == 1]  # Assuming label 1 represents the minority class\n",
    "df_majority = df[df['is_duplicate'] == 0]  # Assuming label 0 represents the majority class\n",
    "\n",
    "# Undersample the majority class\n",
    "df_majority_undersampled = resample(df_majority, replace=False, n_samples=len(df_minority), random_state=13)\n",
    "\n",
    "# Combine the minority class with the undersampled majority class\n",
    "df_balanced = pd.concat([df_minority, df_majority_undersampled])\n",
    "\n",
    "# Shuffle the balanced dataframe\n",
    "df_balanced = df_balanced.sample(frac=1, random_state=13).reset_index(drop=True)"
   ]
  },
  {
   "cell_type": "markdown",
   "metadata": {},
   "source": [
    "### Modeling\n",
    "\n",
    "Different modeling techniques can be used:\n",
    "\n",
    "- logistic regression\n",
    "- XGBoost\n",
    "- LSTMs\n",
    "- etc"
   ]
  },
  {
   "cell_type": "code",
   "execution_count": 32,
   "metadata": {},
   "outputs": [],
   "source": [
    "import tensorflow as tf"
   ]
  },
  {
   "cell_type": "code",
   "execution_count": 33,
   "metadata": {},
   "outputs": [],
   "source": [
    "X = df_balanced.drop(['is_duplicate','stem_q1','stem_q1','id','qid1','qid2'],axis=1)\n",
    "y = df_balanced.is_duplicate"
   ]
  },
  {
   "cell_type": "code",
   "execution_count": 34,
   "metadata": {},
   "outputs": [],
   "source": [
    "sentence1_vectors = X['vect_q1'].apply(np.array)\n",
    "sentence2_vectors = X['vect_q2'].apply(np.array)\n",
    "\n",
    "sentence1_average = sentence1_vectors.apply(lambda row: np.mean(row,axis=0))\n",
    "sentence2_average = sentence2_vectors.apply(lambda row: np.mean(row,axis=0))"
   ]
  },
  {
   "cell_type": "code",
   "execution_count": 35,
   "metadata": {},
   "outputs": [],
   "source": [
    "df2 = pd.concat([sentence1_average,sentence2_average],axis=1)"
   ]
  },
  {
   "cell_type": "code",
   "execution_count": 36,
   "metadata": {},
   "outputs": [
    {
     "data": {
      "text/plain": [
       "100"
      ]
     },
     "execution_count": 36,
     "metadata": {},
     "output_type": "execute_result"
    }
   ],
   "source": [
    "len(sentence1_average[0])"
   ]
  },
  {
   "cell_type": "code",
   "execution_count": 37,
   "metadata": {},
   "outputs": [
    {
     "data": {
      "text/plain": [
       "array([ 0.09793834,  0.22617815,  0.20285833, -0.24670833, -0.5546232 ,\n",
       "        0.28754166,  0.07366999, -0.0034725 , -0.1889103 , -0.145642  ,\n",
       "       -0.1670355 , -0.29163834,  0.0375735 , -0.03838434,  0.04771936,\n",
       "        0.15064333,  0.07781185,  0.04688813, -0.02064   ,  0.555955  ,\n",
       "       -0.20782399,  0.48221537, -0.082307  , -0.54940337, -0.02028499,\n",
       "       -0.046574  , -0.01383566, -0.44581497,  0.28294584,  0.21579534,\n",
       "       -0.18337534,  0.3652067 ,  0.15471001, -0.313947  ,  0.35593152,\n",
       "        0.08100001, -0.312855  ,  0.11619183,  0.07992335, -0.20678367,\n",
       "        0.358385  ,  0.04199633,  0.08205383, -0.4684203 , -0.30792284,\n",
       "        0.02602667, -0.14654167, -0.03927666,  0.02752933, -0.31700668,\n",
       "       -0.0020345 , -0.10383867, -0.26249543,  0.34454   ,  0.1216335 ,\n",
       "       -0.9451267 ,  0.02915999,  0.45595488,  0.26716167,  0.16043667,\n",
       "        0.157703  ,  0.06824166, -0.33624518, -0.23815   ,  0.24551634,\n",
       "        0.02795766,  0.12270167,  0.23460817, -0.35837802,  0.09356583,\n",
       "        0.20583169, -0.36011115, -0.03187766, -0.07069533, -0.00132824,\n",
       "        0.01983917,  0.14290066,  0.0693285 ,  0.19811499,  0.13105951,\n",
       "        0.23102133, -0.01319417, -0.15070817, -0.24179332, -0.3101442 ,\n",
       "       -0.32195917, -0.5653515 ,  0.08012334, -0.04317134, -0.30590954,\n",
       "        0.18130767,  0.02238834,  0.05380583, -0.20666067, -0.12977   ,\n",
       "        0.12127551, -0.329025  ,  0.05297182,  0.21722133, -0.01157633],\n",
       "      dtype=float32)"
      ]
     },
     "execution_count": 37,
     "metadata": {},
     "output_type": "execute_result"
    }
   ],
   "source": [
    "df2['vect_q1'][0]"
   ]
  },
  {
   "cell_type": "code",
   "execution_count": 38,
   "metadata": {},
   "outputs": [],
   "source": [
    "df2 = df2.dropna()"
   ]
  },
  {
   "cell_type": "code",
   "execution_count": 39,
   "metadata": {},
   "outputs": [
    {
     "name": "stdout",
     "output_type": "stream",
     "text": [
      "0\n",
      "10000\n",
      "20000\n",
      "30000\n",
      "40000\n",
      "50000\n",
      "60000\n",
      "70000\n",
      "80000\n",
      "90000\n",
      "100000\n",
      "110000\n",
      "120000\n",
      "130000\n",
      "140000\n",
      "150000\n",
      "160000\n",
      "170000\n",
      "180000\n",
      "190000\n",
      "200000\n",
      "210000\n",
      "220000\n",
      "230000\n",
      "240000\n",
      "250000\n",
      "260000\n",
      "270000\n",
      "280000\n",
      "290000\n"
     ]
    }
   ],
   "source": [
    "from numpy import dot\n",
    "from numpy.linalg import norm\n",
    "\n",
    "df2['cos_sim'] = np.zeros(len(df2))  # Initialize a column to store the cosine similarity values\n",
    "\n",
    "for i in range(len(df2)):\n",
    "    try:\n",
    "        vec_q1 = df2['vect_q1'][i]  # Get the vector from the 'vect_q1' column for the current row\n",
    "        vec_q2 = df2['vect_q2'][i]  # Get the vector from the 'vect_q2' column for the current row\n",
    "\n",
    "        dot_product = np.dot(vec_q1, vec_q2)  # Compute the dot product of the two vectors\n",
    "        norm_q1 = norm(vec_q1)  # Compute the norm of vec_q1\n",
    "        norm_q2 = norm(vec_q2)  # Compute the norm of vec_q2\n",
    "\n",
    "        cosine_similarity = dot_product / (norm_q1 * norm_q2)  # Calculate the cosine similarity\n",
    "\n",
    "        df2['cos_sim'][i] = cosine_similarity  # Store the cosine similarity value in the 'cos_sim' column\n",
    "    except:\n",
    "        df2['cos_sim'][i] = 0\n",
    "        \n",
    "    if i%10000 == 0:\n",
    "        print(i)"
   ]
  },
  {
   "cell_type": "code",
   "execution_count": 40,
   "metadata": {},
   "outputs": [
    {
     "data": {
      "text/html": [
       "<div>\n",
       "<style scoped>\n",
       "    .dataframe tbody tr th:only-of-type {\n",
       "        vertical-align: middle;\n",
       "    }\n",
       "\n",
       "    .dataframe tbody tr th {\n",
       "        vertical-align: top;\n",
       "    }\n",
       "\n",
       "    .dataframe thead th {\n",
       "        text-align: right;\n",
       "    }\n",
       "</style>\n",
       "<table border=\"1\" class=\"dataframe\">\n",
       "  <thead>\n",
       "    <tr style=\"text-align: right;\">\n",
       "      <th></th>\n",
       "      <th>vect_q1</th>\n",
       "      <th>vect_q2</th>\n",
       "      <th>cos_sim</th>\n",
       "    </tr>\n",
       "  </thead>\n",
       "  <tbody>\n",
       "    <tr>\n",
       "      <th>293343</th>\n",
       "      <td>[-0.0142389955, -0.12144681, 0.16853161, -0.12...</td>\n",
       "      <td>[0.022896249, -0.30351752, 0.29126, 0.00200100...</td>\n",
       "      <td>0.0</td>\n",
       "    </tr>\n",
       "    <tr>\n",
       "      <th>293344</th>\n",
       "      <td>[0.015876332, -0.18770666, 0.077673666, -0.444...</td>\n",
       "      <td>[0.0321265, -0.38536, 0.0909605, -0.35227498, ...</td>\n",
       "      <td>0.0</td>\n",
       "    </tr>\n",
       "    <tr>\n",
       "      <th>293345</th>\n",
       "      <td>[-0.56322503, -0.544905, -0.105874, 0.16352999...</td>\n",
       "      <td>[-0.11821713, -0.054503754, 0.17856237, -0.124...</td>\n",
       "      <td>0.0</td>\n",
       "    </tr>\n",
       "    <tr>\n",
       "      <th>293346</th>\n",
       "      <td>[-0.07204014, 0.220045, 0.46685, -0.13856573, ...</td>\n",
       "      <td>[-0.067460984, 0.4286275, 0.6248875, -0.50219,...</td>\n",
       "      <td>0.0</td>\n",
       "    </tr>\n",
       "    <tr>\n",
       "      <th>293347</th>\n",
       "      <td>[-0.069180004, 0.29138735, 0.25406668, -0.2704...</td>\n",
       "      <td>[-0.10986251, 0.372103, 0.3729975, -0.3444275,...</td>\n",
       "      <td>0.0</td>\n",
       "    </tr>\n",
       "    <tr>\n",
       "      <th>...</th>\n",
       "      <td>...</td>\n",
       "      <td>...</td>\n",
       "      <td>...</td>\n",
       "    </tr>\n",
       "    <tr>\n",
       "      <th>298521</th>\n",
       "      <td>[-0.18677032, -0.23759334, 0.6723433, -0.34279...</td>\n",
       "      <td>[-0.03995864, 0.19259635, 0.29144445, -0.47246...</td>\n",
       "      <td>0.0</td>\n",
       "    </tr>\n",
       "    <tr>\n",
       "      <th>298522</th>\n",
       "      <td>[0.3122325, -0.03365975, -0.14127475, -0.36503...</td>\n",
       "      <td>[-0.057860233, 0.22798221, -0.050797798, -0.46...</td>\n",
       "      <td>0.0</td>\n",
       "    </tr>\n",
       "    <tr>\n",
       "      <th>298523</th>\n",
       "      <td>[-0.361404, -0.323928, 0.37818998, -0.65071005...</td>\n",
       "      <td>[-0.296345, 0.59163, 0.18035151, 0.2139917, 0....</td>\n",
       "      <td>0.0</td>\n",
       "    </tr>\n",
       "    <tr>\n",
       "      <th>298524</th>\n",
       "      <td>[0.33799663, 0.56696993, 0.26615998, -0.239087...</td>\n",
       "      <td>[0.19561498, 0.34992746, 0.29675248, -0.160663...</td>\n",
       "      <td>0.0</td>\n",
       "    </tr>\n",
       "    <tr>\n",
       "      <th>298525</th>\n",
       "      <td>[0.067635, 0.2862725, 0.6470225, -0.202122, -0...</td>\n",
       "      <td>[0.07908381, 0.3033798, 0.0873345, -0.02563329...</td>\n",
       "      <td>0.0</td>\n",
       "    </tr>\n",
       "  </tbody>\n",
       "</table>\n",
       "<p>5101 rows × 3 columns</p>\n",
       "</div>"
      ],
      "text/plain": [
       "                                                  vect_q1  \\\n",
       "293343  [-0.0142389955, -0.12144681, 0.16853161, -0.12...   \n",
       "293344  [0.015876332, -0.18770666, 0.077673666, -0.444...   \n",
       "293345  [-0.56322503, -0.544905, -0.105874, 0.16352999...   \n",
       "293346  [-0.07204014, 0.220045, 0.46685, -0.13856573, ...   \n",
       "293347  [-0.069180004, 0.29138735, 0.25406668, -0.2704...   \n",
       "...                                                   ...   \n",
       "298521  [-0.18677032, -0.23759334, 0.6723433, -0.34279...   \n",
       "298522  [0.3122325, -0.03365975, -0.14127475, -0.36503...   \n",
       "298523  [-0.361404, -0.323928, 0.37818998, -0.65071005...   \n",
       "298524  [0.33799663, 0.56696993, 0.26615998, -0.239087...   \n",
       "298525  [0.067635, 0.2862725, 0.6470225, -0.202122, -0...   \n",
       "\n",
       "                                                  vect_q2  cos_sim  \n",
       "293343  [0.022896249, -0.30351752, 0.29126, 0.00200100...      0.0  \n",
       "293344  [0.0321265, -0.38536, 0.0909605, -0.35227498, ...      0.0  \n",
       "293345  [-0.11821713, -0.054503754, 0.17856237, -0.124...      0.0  \n",
       "293346  [-0.067460984, 0.4286275, 0.6248875, -0.50219,...      0.0  \n",
       "293347  [-0.10986251, 0.372103, 0.3729975, -0.3444275,...      0.0  \n",
       "...                                                   ...      ...  \n",
       "298521  [-0.03995864, 0.19259635, 0.29144445, -0.47246...      0.0  \n",
       "298522  [-0.057860233, 0.22798221, -0.050797798, -0.46...      0.0  \n",
       "298523  [-0.296345, 0.59163, 0.18035151, 0.2139917, 0....      0.0  \n",
       "298524  [0.19561498, 0.34992746, 0.29675248, -0.160663...      0.0  \n",
       "298525  [0.07908381, 0.3033798, 0.0873345, -0.02563329...      0.0  \n",
       "\n",
       "[5101 rows x 3 columns]"
      ]
     },
     "execution_count": 40,
     "metadata": {},
     "output_type": "execute_result"
    }
   ],
   "source": [
    "df2[df2['cos_sim']==0]"
   ]
  },
  {
   "cell_type": "code",
   "execution_count": 41,
   "metadata": {},
   "outputs": [
    {
     "data": {
      "text/plain": [
       "(298526,)"
      ]
     },
     "execution_count": 41,
     "metadata": {},
     "output_type": "execute_result"
    }
   ],
   "source": [
    "sentence1_average.shape"
   ]
  },
  {
   "cell_type": "code",
   "execution_count": 42,
   "metadata": {},
   "outputs": [],
   "source": [
    "df2 = df2[df2['cos_sim']!=0]"
   ]
  },
  {
   "cell_type": "code",
   "execution_count": 43,
   "metadata": {},
   "outputs": [],
   "source": [
    "X = df2.merge(X,left_index=True,right_index=True,how='left')\n",
    "X = X.drop(['vect_q1_x','vect_q2_x','stem_q2','vect_q1_y','vect_q2_y'],axis=1)\n",
    "X = X.merge(y, left_index=True,right_index=True,how='left')\n",
    "y = X.is_duplicate\n",
    "\n",
    "X= X.drop(['is_duplicate'],axis=1)"
   ]
  },
  {
   "cell_type": "code",
   "execution_count": 63,
   "metadata": {},
   "outputs": [],
   "source": [
    "X_train, X_test, y_train, y_test = train_test_split(X,y,test_size=.2,random_state = 13)"
   ]
  },
  {
   "cell_type": "code",
   "execution_count": 45,
   "metadata": {},
   "outputs": [],
   "source": [
    "# from tensorflow.keras.utils import pad_sequences\n",
    "\n",
    "# X_train = pad_sequences(X_train, \n",
    "#                                 maxlen=100,\n",
    "#                                 padding='post',\n",
    "#                                 truncating='post')\n",
    "# print('step1')\n",
    "\n",
    "# X_test = pad_sequences(X_test,\n",
    "#                              maxlen=100,\n",
    "#                              padding='post',\n",
    "#                              truncating='post')"
   ]
  },
  {
   "cell_type": "code",
   "execution_count": 46,
   "metadata": {},
   "outputs": [
    {
     "data": {
      "text/html": [
       "<style>#sk-container-id-1 {color: black;background-color: white;}#sk-container-id-1 pre{padding: 0;}#sk-container-id-1 div.sk-toggleable {background-color: white;}#sk-container-id-1 label.sk-toggleable__label {cursor: pointer;display: block;width: 100%;margin-bottom: 0;padding: 0.3em;box-sizing: border-box;text-align: center;}#sk-container-id-1 label.sk-toggleable__label-arrow:before {content: \"▸\";float: left;margin-right: 0.25em;color: #696969;}#sk-container-id-1 label.sk-toggleable__label-arrow:hover:before {color: black;}#sk-container-id-1 div.sk-estimator:hover label.sk-toggleable__label-arrow:before {color: black;}#sk-container-id-1 div.sk-toggleable__content {max-height: 0;max-width: 0;overflow: hidden;text-align: left;background-color: #f0f8ff;}#sk-container-id-1 div.sk-toggleable__content pre {margin: 0.2em;color: black;border-radius: 0.25em;background-color: #f0f8ff;}#sk-container-id-1 input.sk-toggleable__control:checked~div.sk-toggleable__content {max-height: 200px;max-width: 100%;overflow: auto;}#sk-container-id-1 input.sk-toggleable__control:checked~label.sk-toggleable__label-arrow:before {content: \"▾\";}#sk-container-id-1 div.sk-estimator input.sk-toggleable__control:checked~label.sk-toggleable__label {background-color: #d4ebff;}#sk-container-id-1 div.sk-label input.sk-toggleable__control:checked~label.sk-toggleable__label {background-color: #d4ebff;}#sk-container-id-1 input.sk-hidden--visually {border: 0;clip: rect(1px 1px 1px 1px);clip: rect(1px, 1px, 1px, 1px);height: 1px;margin: -1px;overflow: hidden;padding: 0;position: absolute;width: 1px;}#sk-container-id-1 div.sk-estimator {font-family: monospace;background-color: #f0f8ff;border: 1px dotted black;border-radius: 0.25em;box-sizing: border-box;margin-bottom: 0.5em;}#sk-container-id-1 div.sk-estimator:hover {background-color: #d4ebff;}#sk-container-id-1 div.sk-parallel-item::after {content: \"\";width: 100%;border-bottom: 1px solid gray;flex-grow: 1;}#sk-container-id-1 div.sk-label:hover label.sk-toggleable__label {background-color: #d4ebff;}#sk-container-id-1 div.sk-serial::before {content: \"\";position: absolute;border-left: 1px solid gray;box-sizing: border-box;top: 0;bottom: 0;left: 50%;z-index: 0;}#sk-container-id-1 div.sk-serial {display: flex;flex-direction: column;align-items: center;background-color: white;padding-right: 0.2em;padding-left: 0.2em;position: relative;}#sk-container-id-1 div.sk-item {position: relative;z-index: 1;}#sk-container-id-1 div.sk-parallel {display: flex;align-items: stretch;justify-content: center;background-color: white;position: relative;}#sk-container-id-1 div.sk-item::before, #sk-container-id-1 div.sk-parallel-item::before {content: \"\";position: absolute;border-left: 1px solid gray;box-sizing: border-box;top: 0;bottom: 0;left: 50%;z-index: -1;}#sk-container-id-1 div.sk-parallel-item {display: flex;flex-direction: column;z-index: 1;position: relative;background-color: white;}#sk-container-id-1 div.sk-parallel-item:first-child::after {align-self: flex-end;width: 50%;}#sk-container-id-1 div.sk-parallel-item:last-child::after {align-self: flex-start;width: 50%;}#sk-container-id-1 div.sk-parallel-item:only-child::after {width: 0;}#sk-container-id-1 div.sk-dashed-wrapped {border: 1px dashed gray;margin: 0 0.4em 0.5em 0.4em;box-sizing: border-box;padding-bottom: 0.4em;background-color: white;}#sk-container-id-1 div.sk-label label {font-family: monospace;font-weight: bold;display: inline-block;line-height: 1.2em;}#sk-container-id-1 div.sk-label-container {text-align: center;}#sk-container-id-1 div.sk-container {/* jupyter's `normalize.less` sets `[hidden] { display: none; }` but bootstrap.min.css set `[hidden] { display: none !important; }` so we also need the `!important` here to be able to override the default hidden behavior on the sphinx rendered scikit-learn.org. See: https://github.com/scikit-learn/scikit-learn/issues/21755 */display: inline-block !important;position: relative;}#sk-container-id-1 div.sk-text-repr-fallback {display: none;}</style><div id=\"sk-container-id-1\" class=\"sk-top-container\"><div class=\"sk-text-repr-fallback\"><pre>LogisticRegression()</pre><b>In a Jupyter environment, please rerun this cell to show the HTML representation or trust the notebook. <br />On GitHub, the HTML representation is unable to render, please try loading this page with nbviewer.org.</b></div><div class=\"sk-container\" hidden><div class=\"sk-item\"><div class=\"sk-estimator sk-toggleable\"><input class=\"sk-toggleable__control sk-hidden--visually\" id=\"sk-estimator-id-1\" type=\"checkbox\" checked><label for=\"sk-estimator-id-1\" class=\"sk-toggleable__label sk-toggleable__label-arrow\">LogisticRegression</label><div class=\"sk-toggleable__content\"><pre>LogisticRegression()</pre></div></div></div></div></div>"
      ],
      "text/plain": [
       "LogisticRegression()"
      ]
     },
     "execution_count": 46,
     "metadata": {},
     "output_type": "execute_result"
    }
   ],
   "source": [
    "from sklearn.linear_model import LogisticRegression\n",
    "\n",
    "logreg = LogisticRegression()\n",
    "logreg.fit(X_train,y_train)"
   ]
  },
  {
   "cell_type": "code",
   "execution_count": 65,
   "metadata": {},
   "outputs": [],
   "source": [
    "y_pred = logreg.predict(X_test)"
   ]
  },
  {
   "cell_type": "code",
   "execution_count": 48,
   "metadata": {},
   "outputs": [],
   "source": [
    "from sklearn.metrics import accuracy_score, roc_auc_score"
   ]
  },
  {
   "cell_type": "code",
   "execution_count": 49,
   "metadata": {},
   "outputs": [
    {
     "name": "stdout",
     "output_type": "stream",
     "text": [
      "0.6789710142413572\n",
      "0.6788298922325053\n"
     ]
    }
   ],
   "source": [
    "print(accuracy_score(y_test,y_pred))\n",
    "print(roc_auc_score(y_test,y_pred))"
   ]
  },
  {
   "cell_type": "code",
   "execution_count": 67,
   "metadata": {},
   "outputs": [
    {
     "data": {
      "image/png": "[encoded data removed]",
      "text/plain": [
       "<Figure size 640x480 with 2 Axes>"
      ]
     },
     "metadata": {},
     "output_type": "display_data"
    }
   ],
   "source": [
    "cm = confusion_matrix(y_test, y_pred)\n",
    "\n",
    "# Create a heatmap of the confusion matrix\n",
    "sns.heatmap(cm, annot=True, fmt=\"d\", cmap=\"Blues\")\n",
    "\n",
    "# Set labels, title, and axis ticks\n",
    "plt.xlabel(\"Predicted Classes\")\n",
    "plt.ylabel(\"True Classes\")\n",
    "plt.title(\"Confusion Matrix\")\n",
    "plt.show()"
   ]
  },
  {
   "cell_type": "code",
   "execution_count": 50,
   "metadata": {},
   "outputs": [],
   "source": [
    "from keras.models import Sequential\n",
    "from keras.layers import Dense\n",
    "from keras.layers import LSTM\n",
    "from keras.layers import Dropout\n",
    "from keras.callbacks import EarlyStopping"
   ]
  },
  {
   "cell_type": "code",
   "execution_count": 51,
   "metadata": {},
   "outputs": [],
   "source": [
    "#Code from another spot, not edited yet\n",
    "# regressor = Sequential()\n",
    "\n",
    "# regressor.add(LSTM(units = 100, return_sequences = True, input_shape = (None,100)))\n",
    "# regressor.add(Dropout(0.2))\n",
    "\n",
    "# regressor.add(LSTM(units = 100, return_sequences = True))\n",
    "# regressor.add(Dropout(0.2))\n",
    "\n",
    "# regressor.add(LSTM(units = 50, return_sequences = True))\n",
    "# regressor.add(Dropout(0.2))\n",
    "\n",
    "# regressor.add(LSTM(units = 1))\n",
    "# regressor.add(Dropout(0.2))\n",
    "\n",
    "# regressor.add(Dense(units = 1))\n",
    "\n",
    "# regressor.compile(optimizer = 'adam', loss = 'mean_squared_error')\n",
    "# early_stopping = EarlyStopping(monitor = 'val_loss', patience = 5)\n",
    "# regressor.fit(X_train, y_train, epochs = 100, batch_size = 32)"
   ]
  },
  {
   "cell_type": "code",
   "execution_count": 90,
   "metadata": {},
   "outputs": [],
   "source": [
    "X_full = X.merge(df2['vect_q1'],left_index = True, right_index = True, how = 'left')"
   ]
  },
  {
   "cell_type": "code",
   "execution_count": 91,
   "metadata": {},
   "outputs": [],
   "source": [
    "X_full = X_full.merge(df2['vect_q2'],left_index = True, right_index = True, how = 'left')"
   ]
  },
  {
   "cell_type": "code",
   "execution_count": 92,
   "metadata": {},
   "outputs": [],
   "source": [
    "X1 = X_full['vect_q1']\n",
    "X2 = X_full['vect_q2']\n",
    "X3 = X_full.drop(['vect_q1','vect_q2'],axis=1).values\n",
    "\n",
    "# Convert the Series to numpy arrays\n",
    "X1 = np.stack(X1.values)\n",
    "X2 = np.stack(X2.values)"
   ]
  },
  {
   "cell_type": "code",
   "execution_count": 93,
   "metadata": {},
   "outputs": [],
   "source": [
    "# Compute cosine similarity\n",
    "def cosine_similarity(x):\n",
    "    x1, x2 = x[0], x[1]\n",
    "    x1 = K.l2_normalize(x1, axis=-1)\n",
    "    x2 = K.l2_normalize(x2, axis=-1)\n",
    "    return K.sum(x1 * x2, axis=-1, keepdims=True)"
   ]
  },
  {
   "cell_type": "code",
   "execution_count": 94,
   "metadata": {},
   "outputs": [
    {
     "name": "stdout",
     "output_type": "stream",
     "text": [
      "Epoch 1/20\n",
      "7207/7207 [==============================] - 159s 22ms/step - loss: 0.5451 - accuracy: 0.6977 - val_loss: 0.5284 - val_accuracy: 0.7110\n",
      "Epoch 2/20\n",
      "7207/7207 [==============================] - 156s 22ms/step - loss: 0.5286 - accuracy: 0.7136 - val_loss: 0.5203 - val_accuracy: 0.7203\n",
      "Epoch 3/20\n",
      "7207/7207 [==============================] - 166s 23ms/step - loss: 0.5175 - accuracy: 0.7247 - val_loss: 0.5082 - val_accuracy: 0.7324\n",
      "Epoch 4/20\n",
      "7207/7207 [==============================] - 164s 23ms/step - loss: 0.5078 - accuracy: 0.7327 - val_loss: 0.5032 - val_accuracy: 0.7343\n",
      "Epoch 5/20\n",
      "7207/7207 [==============================] - 165s 23ms/step - loss: 0.4987 - accuracy: 0.7396 - val_loss: 0.4933 - val_accuracy: 0.7418\n",
      "Epoch 6/20\n",
      "7207/7207 [==============================] - 170s 24ms/step - loss: 0.4913 - accuracy: 0.7446 - val_loss: 0.4876 - val_accuracy: 0.7468\n",
      "Epoch 7/20\n",
      "7207/7207 [==============================] - 169s 24ms/step - loss: 0.4850 - accuracy: 0.7476 - val_loss: 0.4912 - val_accuracy: 0.7436\n",
      "Epoch 8/20\n",
      "7207/7207 [==============================] - 170s 24ms/step - loss: 0.4794 - accuracy: 0.7526 - val_loss: 0.4791 - val_accuracy: 0.7543\n",
      "Epoch 9/20\n",
      "7207/7207 [==============================] - 172s 24ms/step - loss: 0.4745 - accuracy: 0.7563 - val_loss: 0.4796 - val_accuracy: 0.7530\n",
      "Epoch 10/20\n",
      "7207/7207 [==============================] - 174s 24ms/step - loss: 0.4700 - accuracy: 0.7586 - val_loss: 0.4740 - val_accuracy: 0.7556\n",
      "Epoch 11/20\n",
      "7207/7207 [==============================] - 174s 24ms/step - loss: 0.4649 - accuracy: 0.7626 - val_loss: 0.4777 - val_accuracy: 0.7529\n",
      "Epoch 12/20\n",
      "7207/7207 [==============================] - 175s 24ms/step - loss: 0.4609 - accuracy: 0.7652 - val_loss: 0.4685 - val_accuracy: 0.7591\n",
      "Epoch 13/20\n",
      "7207/7207 [==============================] - 166s 23ms/step - loss: 0.4567 - accuracy: 0.7685 - val_loss: 0.4722 - val_accuracy: 0.7577\n",
      "Epoch 14/20\n",
      "7207/7207 [==============================] - 165s 23ms/step - loss: 0.4528 - accuracy: 0.7711 - val_loss: 0.4678 - val_accuracy: 0.7608\n",
      "Epoch 15/20\n",
      "7207/7207 [==============================] - 157s 22ms/step - loss: 0.4485 - accuracy: 0.7731 - val_loss: 0.4638 - val_accuracy: 0.7633\n",
      "Epoch 16/20\n",
      "7207/7207 [==============================] - 154s 21ms/step - loss: 0.4446 - accuracy: 0.7761 - val_loss: 0.4652 - val_accuracy: 0.7626\n",
      "Epoch 17/20\n",
      "7207/7207 [==============================] - 164s 23ms/step - loss: 0.4411 - accuracy: 0.7787 - val_loss: 0.4659 - val_accuracy: 0.7616\n",
      "Epoch 18/20\n",
      "7207/7207 [==============================] - 165s 23ms/step - loss: 0.4377 - accuracy: 0.7811 - val_loss: 0.4646 - val_accuracy: 0.7639\n",
      "Epoch 19/20\n",
      "7207/7207 [==============================] - 161s 22ms/step - loss: 0.4345 - accuracy: 0.7824 - val_loss: 0.4653 - val_accuracy: 0.7644\n",
      "Epoch 20/20\n",
      "7207/7207 [==============================] - 168s 23ms/step - loss: 0.4314 - accuracy: 0.7847 - val_loss: 0.4621 - val_accuracy: 0.7636\n"
     ]
    },
    {
     "data": {
      "text/plain": [
       "<keras.callbacks.History at 0x227df48ab60>"
      ]
     },
     "execution_count": 94,
     "metadata": {},
     "output_type": "execute_result"
    }
   ],
   "source": [
    "import numpy as np\n",
    "import pandas as pd\n",
    "from tensorflow.keras.models import Model\n",
    "from tensorflow.keras.layers import Input, LSTM, Dense, Concatenate\n",
    "from tensorflow.keras.losses import BinaryCrossentropy\n",
    "from tensorflow.keras.optimizers import Adam\n",
    "\n",
    "# Reshape the input arrays to match the LSTM input shape\n",
    "X1 = np.reshape(X1, (X1.shape[0], X1.shape[1], 1))\n",
    "X2 = np.reshape(X2, (X2.shape[0], X2.shape[1], 1))\n",
    "\n",
    "# Define the input shape\n",
    "input_shape = (X1.shape[1], 1)  # Size of the input vectors\n",
    "\n",
    "# Define the number of LSTM units\n",
    "lstm_units = 64\n",
    "\n",
    "# Create the input layers\n",
    "input1 = Input(shape=input_shape)\n",
    "input2 = Input(shape=input_shape)\n",
    "input_float = Input(shape=(X3.shape[1],))  # Input shape for float variables\n",
    "\n",
    "# Shared LSTM layer\n",
    "shared_lstm = LSTM(lstm_units)\n",
    "\n",
    "# First LSTM branch\n",
    "lstm1 = shared_lstm(input1)\n",
    "output1 = Dense(lstm_units, activation='relu')(lstm1)\n",
    "\n",
    "# Second LSTM branch\n",
    "lstm2 = shared_lstm(input2)\n",
    "output2 = Dense(lstm_units, activation='relu')(lstm2)\n",
    "\n",
    "# Merge the outputs of the LSTM branches\n",
    "merged = Concatenate()([output1, output2])\n",
    "\n",
    "# Concatenate the float variables with the merged outputs\n",
    "merged = Concatenate()([merged, input_float])\n",
    "\n",
    "# Add additional layers if desired\n",
    "merged = Dense(64, activation='relu')(merged)\n",
    "merged = Dense(32, activation='relu')(merged)\n",
    "\n",
    "# Final output layer\n",
    "predictions = Dense(1, activation='sigmoid')(merged)\n",
    "\n",
    "# Create the Siamese LSTM model\n",
    "model = Model(inputs=[input1, input2, input_float], outputs=predictions)\n",
    "\n",
    "# Compile the model\n",
    "loss_fn = BinaryCrossentropy()\n",
    "optimizer = Adam(learning_rate=0.001)\n",
    "model.compile(optimizer=optimizer, loss=loss_fn, metrics=['accuracy'])\n",
    "\n",
    "# Train the model\n",
    "model.fit([X1, X2, X3], y, epochs=20, batch_size=32, validation_split=0.2)"
   ]
  },
  {
   "cell_type": "code",
   "execution_count": 56,
   "metadata": {},
   "outputs": [
    {
     "data": {
      "text/plain": [
       "(288242, 100, 1)"
      ]
     },
     "execution_count": 56,
     "metadata": {},
     "output_type": "execute_result"
    }
   ],
   "source": [
    "X1.shape"
   ]
  },
  {
   "cell_type": "code",
   "execution_count": 95,
   "metadata": {},
   "outputs": [
    {
     "name": "stdout",
     "output_type": "stream",
     "text": [
      "1802/1802 [==============================] - 14s 8ms/step\n"
     ]
    }
   ],
   "source": [
    "# Obtain predictions on the validation split\n",
    "X1_val_pred = X1[int(X1.shape[0] * 0.8):]  # Extract the validation split from X1\n",
    "X2_val_pred = X2[int(X2.shape[0] * 0.8):]  # Extract the validation split from X2\n",
    "X3_val_pred = X3[int(X3.shape[0] * 0.8):]  # Extract the validation split from X3\n",
    "\n",
    "y_pred = model.predict([X1_val_pred, X2_val_pred, X3_val_pred])"
   ]
  },
  {
   "cell_type": "code",
   "execution_count": 96,
   "metadata": {},
   "outputs": [],
   "source": [
    "y_pred_c = (y_pred > .5).astype(int)"
   ]
  },
  {
   "cell_type": "code",
   "execution_count": 97,
   "metadata": {},
   "outputs": [],
   "source": [
    "y_test = y[int(y.shape[0] * 0.8):]"
   ]
  },
  {
   "cell_type": "code",
   "execution_count": 98,
   "metadata": {},
   "outputs": [
    {
     "name": "stdout",
     "output_type": "stream",
     "text": [
      "0.7635865322902392\n",
      "0.7633654374684601\n"
     ]
    }
   ],
   "source": [
    "print(accuracy_score(y_test,y_pred_c))\n",
    "print(roc_auc_score(y_test,y_pred_c))"
   ]
  },
  {
   "cell_type": "code",
   "execution_count": 99,
   "metadata": {},
   "outputs": [
    {
     "name": "stdout",
     "output_type": "stream",
     "text": [
      "Confusion Matrix:\n",
      "[[20652  8025]\n",
      " [ 5604 23368]]\n"
     ]
    }
   ],
   "source": [
    "from sklearn.metrics import confusion_matrix\n",
    "\n",
    "# Assuming y_true contains the true labels and y_pred_classes contains the predicted classes\n",
    "\n",
    "# Create the confusion matrix\n",
    "cm = confusion_matrix(y_test, y_pred_c)\n",
    "\n",
    "print(\"Confusion Matrix:\")\n",
    "print(cm)"
   ]
  },
  {
   "cell_type": "code",
   "execution_count": 100,
   "metadata": {},
   "outputs": [
    {
     "data": {
      "image/png": "[encoded data removed]",
      "text/plain": [
       "<Figure size 640x480 with 2 Axes>"
      ]
     },
     "metadata": {},
     "output_type": "display_data"
    }
   ],
   "source": [
    "import seaborn as sns\n",
    "import matplotlib.pyplot as plt\n",
    "\n",
    "# Create a heatmap of the confusion matrix\n",
    "sns.heatmap(cm, annot=True, fmt=\"d\", cmap=\"Blues\")\n",
    "\n",
    "# Set labels, title, and axis ticks\n",
    "plt.xlabel(\"Predicted Classes\")\n",
    "plt.ylabel(\"True Classes\")\n",
    "plt.title(\"Confusion Matrix\")\n",
    "plt.show()"
   ]
  },
  {
   "cell_type": "code",
   "execution_count": null,
   "metadata": {},
   "outputs": [],
   "source": []
  }
 ],
 "metadata": {
  "kernelspec": {
   "display_name": "Python 3 (ipykernel)",
   "language": "python",
   "name": "python3"
  },
  "language_info": {
   "codemirror_mode": {
    "name": "ipython",
    "version": 3
   },
   "file_extension": ".py",
   "mimetype": "text/x-python",
   "name": "python",
   "nbconvert_exporter": "python",
   "pygments_lexer": "ipython3",
   "version": "3.10.9"
  }
 },
 "nbformat": 4,
 "nbformat_minor": 4
}
